{
 "cells": [
  {
   "cell_type": "markdown",
   "id": "e2bd5171-cd80-47a7-9d4a-36d0c208511a",
   "metadata": {},
   "source": []
  },
  {
   "cell_type": "code",
   "execution_count": 2,
   "id": "860a01ef-b0e1-4838-ac79-9a43b74c53dc",
   "metadata": {},
   "outputs": [
    {
     "name": "stdin",
     "output_type": "stream",
     "text": [
      "Enter adress llL\n",
      "Enter full name:  l\n",
      "Enter the position offered:  l\n",
      "Enter date of joining:  l\n",
      "Enter salary:  l\n",
      "Email:  l\n",
      "Enter HR name:  k\n"
     ]
    },
    {
     "ename": "NameError",
     "evalue": "name 'offer_letter' is not defined",
     "output_type": "error",
     "traceback": [
      "\u001b[1;31m---------------------------------------------------------------------------\u001b[0m",
      "\u001b[1;31mNameError\u001b[0m                                 Traceback (most recent call last)",
      "Cell \u001b[1;32mIn[2], line 12\u001b[0m\n\u001b[0;32m      6\u001b[0m email \u001b[38;5;241m=\u001b[39m \u001b[38;5;28minput\u001b[39m(\u001b[38;5;124m\"\u001b[39m\u001b[38;5;124mEmail: \u001b[39m\u001b[38;5;124m\"\u001b[39m)\n\u001b[0;32m      7\u001b[0m hr_name \u001b[38;5;241m=\u001b[39m \u001b[38;5;28minput\u001b[39m(\u001b[38;5;124m\"\u001b[39m\u001b[38;5;124mEnter HR name: \u001b[39m\u001b[38;5;124m\"\u001b[39m)\n\u001b[1;32m---> 12\u001b[0m offer_letter(\u001b[38;5;124mf\u001b[39m\u001b[38;5;124m\"\"\"\u001b[39m\n\u001b[0;32m     13\u001b[0m \u001b[38;5;124m      \u001b[39m\u001b[38;5;132;01m{\u001b[39;00maddress\u001b[38;5;132;01m}\u001b[39;00m\n\u001b[0;32m     14\u001b[0m \n\u001b[0;32m     15\u001b[0m \u001b[38;5;124m      Dear \u001b[39m\u001b[38;5;132;01m{\u001b[39;00mname\u001b[38;5;132;01m}\u001b[39;00m\u001b[38;5;124m,\u001b[39m\n\u001b[0;32m     16\u001b[0m \n\u001b[0;32m     17\u001b[0m \u001b[38;5;124m     Subject: Offer of Employment for the position of \u001b[39m\u001b[38;5;132;01m{\u001b[39;00mdesignation\u001b[38;5;132;01m}\u001b[39;00m\u001b[38;5;124m. \u001b[39m\n\u001b[0;32m     18\u001b[0m \u001b[38;5;124m     \u001b[39m\n\u001b[0;32m     19\u001b[0m \u001b[38;5;124m     We are delighted to extend this formal offer of employment to you for the position of Python Developer at our organization. Based on your qualification and the  skills you demonstrated during the recuirement process, we are confident that you will be valuable afddition to our team.\u001b[39m\u001b[38;5;124m\"\u001b[39m\u001b[38;5;124m)\u001b[39m\n\u001b[0;32m     20\u001b[0m \n\u001b[0;32m     21\u001b[0m \u001b[38;5;124m     As discussed, your expected date of joining is \u001b[39m\u001b[38;5;132;01m{\u001b[39;00mdate_of_joining\u001b[38;5;132;01m}\u001b[39;00m\u001b[38;5;124m. Your total compensatition package will be \u001b[39m\u001b[38;5;132;01m{\u001b[39;00mctc\u001b[38;5;132;01m}\u001b[39;00m\u001b[38;5;124m, which includes all salary components as per the company\u001b[39m\u001b[38;5;124m'\u001b[39m\u001b[38;5;124ms policy. Further details regarding your compensation will be provided in your employment contract.\u001b[39m\n\u001b[0;32m     22\u001b[0m \n\u001b[0;32m     23\u001b[0m \u001b[38;5;124m     We expect you to bring your best efforts to help the company achieve its goals, and we are committed to supporting your proffessional growth during your time with us.\u001b[39m\n\u001b[0;32m     24\u001b[0m \n\u001b[0;32m     25\u001b[0m \u001b[38;5;124m     Please confirm your acceptence of this offer by sending an email to \u001b[39m\u001b[38;5;132;01m{\u001b[39;00memail\u001b[38;5;132;01m}\u001b[39;00m\u001b[38;5;124m at your earliest convenience. Should you have any queries regarding this offer, feel free to reach out to us.\u001b[39m\n\u001b[0;32m     26\u001b[0m \n\u001b[0;32m     27\u001b[0m \u001b[38;5;124m     We look forward to having you onboard and are excited about the great things we can accomplish together.\u001b[39m\n\u001b[0;32m     28\u001b[0m \n\u001b[0;32m     29\u001b[0m \u001b[38;5;124m     \u001b[39m\u001b[38;5;132;01m{\u001b[39;00mhr_name\u001b[38;5;132;01m}\u001b[39;00m\n\u001b[0;32m     30\u001b[0m \u001b[38;5;124m     HR Manager\u001b[39m\n\u001b[0;32m     31\u001b[0m \u001b[38;5;124m     \u001b[39m\u001b[38;5;124m\"\"\"\u001b[39m)\n\u001b[0;32m     33\u001b[0m \u001b[38;5;28mprint\u001b[39m(\u001b[38;5;124mf\u001b[39m\u001b[38;5;124m\"\u001b[39m\u001b[38;5;132;01m{\u001b[39;00moffer_letter\u001b[38;5;132;01m}\u001b[39;00m\u001b[38;5;124m\"\u001b[39m)\n",
      "\u001b[1;31mNameError\u001b[0m: name 'offer_letter' is not defined"
     ]
    }
   ],
   "source": [
    "address = input(\"Enter adress\")\n",
    "name = input(\"Enter full name: \")\n",
    "designation = input(\"Enter the position offered: \")\n",
    "date_of_joining = input(\"Enter date of joining: \")\n",
    "ctc = input(\"Enter salary: \")\n",
    "email = input(\"Email: \")\n",
    "hr_name = input(\"Enter HR name: \")\n",
    "\n",
    "\n",
    "\n",
    "\n",
    "offer_letter = (f\"\"\"\n",
    "      {address}\n",
    "\n",
    "      Dear {name},\n",
    "\n",
    "     Subject: Offer of Employment for the position of {designation}. \n",
    "     \n",
    "     We are delighted to extend this formal offer of employment to you for the position of Python Developer at our organization. Based on your qualification and the  skills you demonstrated during the recuirement process, we are confident that you will be valuable afddition to our team.\")\n",
    "\n",
    "     As discussed, your expected date of joining is {date_of_joining}. Your total compensatition package will be {ctc}, which includes all salary components as per the company's policy. Further details regarding your compensation will be provided in your employment contract.\n",
    "\n",
    "     We expect you to bring your best efforts to help the company achieve its goals, and we are committed to supporting your proffessional growth during your time with us.\n",
    "\n",
    "     Please confirm your acceptence of this offer by sending an email to {email} at your earliest convenience. Should you have any queries regarding this offer, feel free to reach out to us.\n",
    "\n",
    "     We look forward to having you onboard and are excited about the great things we can accomplish together.\n",
    "\n",
    "     {hr_name}\n",
    "     HR Manager\n",
    "     \"\"\")\n",
    "\n",
    "print(f\"{offer_letter}\")\n"
   ]
  },
  {
   "cell_type": "code",
   "execution_count": null,
   "id": "7057b284-c717-457c-b7b7-d7e8dfcea995",
   "metadata": {},
   "outputs": [],
   "source": []
  }
 ],
 "metadata": {
  "kernelspec": {
   "display_name": "Python 3 (ipykernel)",
   "language": "python",
   "name": "python3"
  },
  "language_info": {
   "codemirror_mode": {
    "name": "ipython",
    "version": 3
   },
   "file_extension": ".py",
   "mimetype": "text/x-python",
   "name": "python",
   "nbconvert_exporter": "python",
   "pygments_lexer": "ipython3",
   "version": "3.13.5"
  }
 },
 "nbformat": 4,
 "nbformat_minor": 5
}
