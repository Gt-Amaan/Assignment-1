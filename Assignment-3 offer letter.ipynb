{
 "cells": [
  {
   "cell_type": "markdown",
   "id": "e2bd5171-cd80-47a7-9d4a-36d0c208511a",
   "metadata": {},
   "source": []
  },
  {
   "cell_type": "code",
   "execution_count": null,
   "id": "860a01ef-b0e1-4838-ac79-9a43b74c53dc",
   "metadata": {},
   "outputs": [],
   "source": [
    "address = input(\"Enter adress\")\n",
    "name = input(\"Enter full name: \")\n",
    "designation = input(\"Enter the position offered: \")\n",
    "date_of_joining = input(\"Enter date of joining: \")\n",
    "ctc = input(\"Enter salary: \")\n",
    "email = input(\"Email: \")\n",
    "hr_name = input(\"Enter HR name: \")\n",
    "\n",
    "\n",
    "\n",
    "\n",
    "print(f\"\"\"\n",
    "      {address}\n",
    "\n",
    "      Dear {name},\n",
    "\n",
    "     Subject: Offer of Employment for the position of {designation}. \n",
    "     \n",
    "     We are delighted to extend this formal offer of employment to you for the position of Python Developer at our organization. Based on your qualification and the  skills you demonstrated during the recuirement process, we are confident that you will be valuable afddition to our team.\")\n",
    "\n",
    "     As discussed, your expected date of joining is {date_of_joining}. Your total compensatition package will be {ctc}, which includes all salary components as per the company's policy. Further details regarding your compensation will be provided in your employment contract.\n",
    "\n",
    "     We expect you to bring your best efforts to help the company achieve its goals, and we are committed to supporting your proffessional growth during your time with us.\n",
    "\n",
    "     Please confirm your acceptence of this offer by sending an email to {email} at your earliest convenience. Should you have any queries regarding this offer, feel free to reach out to us.\n",
    "\n",
    "     We look forward to having you onboard and are excited about the great things we can accomplish together.\n",
    "\n",
    "     {hr_name}\n",
    "     HR Manager\n",
    "     \"\"\")\n",
    "\n",
    "\n"
   ]
  }
 ],
 "metadata": {
  "kernelspec": {
   "display_name": "Python 3 (ipykernel)",
   "language": "python",
   "name": "python3"
  },
  "language_info": {
   "codemirror_mode": {
    "name": "ipython",
    "version": 3
   },
   "file_extension": ".py",
   "mimetype": "text/x-python",
   "name": "python",
   "nbconvert_exporter": "python",
   "pygments_lexer": "ipython3",
   "version": "3.13.5"
  }
 },
 "nbformat": 4,
 "nbformat_minor": 5
}
