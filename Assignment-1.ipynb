{
 "cells": [
  {
   "cell_type": "code",
   "execution_count": 9,
   "id": "0dfac8bc-9a7d-43d2-887b-cf2a15696e1e",
   "metadata": {},
   "outputs": [],
   "source": [
    "# 1.In the below elements which of them are values or an expression? eg:-values can be integer or string and expressions will be mathematical operators.\n",
    " \n",
    "\n",
    " Values are:-\n",
    "\n",
    "'hello' #string value\n",
    " -88.8  #float value\n",
    " 6      #integer value\n",
    "\n",
    "Expression are :- \n",
    "\n",
    "*\n",
    "-\n",
    "/\n",
    "+\n"
   ]
  },
  {
   "cell_type": "code",
   "execution_count": null,
   "id": "b6bbaaf1-6449-4f2a-86be-b804924adfcd",
   "metadata": {},
   "outputs": [],
   "source": []
  },
  {
   "cell_type": "code",
   "execution_count": 11,
   "id": "daf7f070-3f6c-4e13-b70b-23d2c95553c4",
   "metadata": {},
   "outputs": [],
   "source": [
    "#2. Difference between variables and strings\n",
    "\n",
    "Variables - Variables are the name that stores value and that values can be string, boolean, string, integers etc.\n",
    "    \n",
    "String - String is a type of data specifically the text enclosed with quotes.\n"
   ]
  },
  {
   "cell_type": "code",
   "execution_count": null,
   "id": "a6a5f5ed-72d3-4f43-9bef-61f838c3df7a",
   "metadata": {},
   "outputs": [],
   "source": []
  },
  {
   "cell_type": "code",
   "execution_count": null,
   "id": "7afb15f1-ec58-4558-b7ba-ad0ac0ef906e",
   "metadata": {},
   "outputs": [],
   "source": [
    "#3. Describe three datatypes\n",
    "\n",
    "Int = Integers are the type of data which contain the whole numbers like (-3,-2,-2-1,0,1, 2, 3, 4, 5, ......) \n",
    "str = Strings are the type of data which contain the text enclosed with quotes like (\"Amaan\",\"superman\")\n",
    "float = Float are the type of data which contain decimal value like ( 1.2, 99.08, -55.44)\n"
   ]
  },
  {
   "cell_type": "code",
   "execution_count": null,
   "id": "345dfd28-574b-4f30-b8ff-2193df35bc1a",
   "metadata": {},
   "outputs": [],
   "source": []
  },
  {
   "cell_type": "code",
   "execution_count": null,
   "id": "ba0c2cfd-39ac-4ab3-868f-f0149eb90bcc",
   "metadata": {},
   "outputs": [],
   "source": [
    "#4. What is an expression made up of? What do all expressions do?\n",
    "\n",
    "An expression is made up of values, variables, operators, and function calls. It can combine these elements to produce a new value.\n",
    "\n",
    "Their main purpose is to compute or produce a value."
   ]
  },
  {
   "cell_type": "code",
   "execution_count": null,
   "id": "56eaf46b-342e-414e-83f0-dd6342d38457",
   "metadata": {},
   "outputs": [],
   "source": []
  },
  {
   "cell_type": "code",
   "execution_count": null,
   "id": "f779e140-fd4c-43d1-81ba-c2b4b490a28d",
   "metadata": {},
   "outputs": [],
   "source": [
    "#5. This assignment statements, like spam = 10. What is the difference between an expression and a statement?\n",
    "\n",
    "An expression is a piece of code that evaluates to a value. For example, spam = 10 is an expression because it evaluates to the value 10 after performing the assignment.\n",
    "\n",
    "A statement is a complete instruction that performs an action. For example, spam = 10 is a statement too because it instructs the program to assign the value 10 to the variable spam."
   ]
  },
  {
   "cell_type": "code",
   "execution_count": null,
   "id": "7c858dea-29fb-48ae-9c03-4cc5731dafcd",
   "metadata": {},
   "outputs": [],
   "source": []
  },
  {
   "cell_type": "code",
   "execution_count": 20,
   "id": "c3d2a1ce-40d4-4f4c-a912-eb7db65634f1",
   "metadata": {},
   "outputs": [
    {
     "name": "stdout",
     "output_type": "stream",
     "text": [
      "22\n"
     ]
    }
   ],
   "source": [
    "#6.After running the following code, what does the variable bacon contain?\n",
    "#bacon = 22\n",
    "#bacon +1\n",
    "\n",
    "bacon = 22\n",
    "bacon+1\n",
    "#print (bacon +1)\n",
    "print (bacon)\n",
    "\n",
    "#bacon still contains the same value 22 because we did not redefined the real variable"
   ]
  },
  {
   "cell_type": "code",
   "execution_count": null,
   "id": "f9f47615-0282-4f66-b32c-8dba3635f5a0",
   "metadata": {},
   "outputs": [],
   "source": []
  },
  {
   "cell_type": "code",
   "execution_count": 33,
   "id": "993b975b-1af9-4e38-8044-82d79af1972a",
   "metadata": {},
   "outputs": [
    {
     "name": "stdout",
     "output_type": "stream",
     "text": [
      "spamspamspam\n",
      "spamspamspam\n"
     ]
    }
   ],
   "source": [
    "#7. What should the values of the following two terms be?\n",
    "#'spam'+'spamspam'\n",
    "#'spam'*3\n",
    "\n",
    "print('spam'+'spamspam')\n",
    "print('spam'*3)\n"
   ]
  },
  {
   "cell_type": "code",
   "execution_count": null,
   "id": "b01b1687-681d-4a5f-8bd3-c88383b1130f",
   "metadata": {},
   "outputs": [],
   "source": []
  },
  {
   "cell_type": "code",
   "execution_count": null,
   "id": "2774fb94-4569-44d3-b08d-db9fcfa2b16d",
   "metadata": {},
   "outputs": [],
   "source": [
    "#8. Why is eggs a valid variable name while 100 is invalid?\n",
    "\n",
    "Since there is a rule to define a variable name that it can only starts with a letters or underscore that is why eggs is a valid variable name and 100 is not"
   ]
  },
  {
   "cell_type": "code",
   "execution_count": null,
   "id": "a2b39ded-4531-4c7c-bd93-5425d6f95064",
   "metadata": {},
   "outputs": [],
   "source": []
  },
  {
   "cell_type": "code",
   "execution_count": null,
   "id": "9041c1a1-d063-4887-a8af-06bf4b583c09",
   "metadata": {},
   "outputs": [],
   "source": [
    "#9. What three functions can be used to get the integer, floating-point number, or string version of a value?\n",
    "\n",
    "int() -   used to convert a value to an integer\n",
    "float() - used to convert a value to float point number\n",
    "str() -   used to convert a value to string"
   ]
  },
  {
   "cell_type": "code",
   "execution_count": null,
   "id": "a593de48-a679-4a9a-b2e2-bddc7dca96c5",
   "metadata": {},
   "outputs": [],
   "source": []
  },
  {
   "cell_type": "code",
   "execution_count": 41,
   "id": "f9393976-f43c-429b-8cf4-840b22a55b95",
   "metadata": {},
   "outputs": [
    {
     "data": {
      "text/plain": [
       "'I have eaten 99 burritos'"
      ]
     },
     "execution_count": 41,
     "metadata": {},
     "output_type": "execute_result"
    }
   ],
   "source": [
    "#10. Why does this expression cause an error? How can you fix it?\n",
    "#'I have eaten' + 99 + 'burritos'\n",
    "\n",
    "#This will give us the error because we cannot add a string to an integer directly. String to string can concatenate but str to int cannot.\n",
    "#We can fix this by changing the value of int to str like this\n",
    "'I have eaten ' + str(99) + ' burritos'\n"
   ]
  },
  {
   "cell_type": "code",
   "execution_count": null,
   "id": "30413b3a-04ad-4d3c-ba1a-869330ac7b9e",
   "metadata": {},
   "outputs": [],
   "source": []
  }
 ],
 "metadata": {
  "kernelspec": {
   "display_name": "Python 3 (ipykernel)",
   "language": "python",
   "name": "python3"
  },
  "language_info": {
   "codemirror_mode": {
    "name": "ipython",
    "version": 3
   },
   "file_extension": ".py",
   "mimetype": "text/x-python",
   "name": "python",
   "nbconvert_exporter": "python",
   "pygments_lexer": "ipython3",
   "version": "3.13.5"
  }
 },
 "nbformat": 4,
 "nbformat_minor": 5
}
