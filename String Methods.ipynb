{
 "cells": [
  {
   "cell_type": "markdown",
   "id": "0a905e51-f555-4ace-be29-c131259a534c",
   "metadata": {},
   "source": [
    "# String.capitalize()\n",
    "### Converts first character to uppercase and the rest to lowercase."
   ]
  },
  {
   "cell_type": "code",
   "execution_count": 4,
   "id": "b62ea328-ca71-4379-be25-43faa7a70a61",
   "metadata": {},
   "outputs": [
    {
     "name": "stdout",
     "output_type": "stream",
     "text": [
      "Capital\n"
     ]
    }
   ],
   "source": [
    "a = \"capital\"\n",
    "a = a.capitalize()\n",
    "print(a)"
   ]
  },
  {
   "cell_type": "code",
   "execution_count": 3,
   "id": "ee140d86-3e84-4e3b-8c7d-ca6d71abfa18",
   "metadata": {},
   "outputs": [
    {
     "name": "stdout",
     "output_type": "stream",
     "text": [
      "Capital\n"
     ]
    }
   ],
   "source": [
    "my_string = \"capital\"\n",
    "my_string = my_string.capitalize()\n",
    "print(my_string)"
   ]
  },
  {
   "cell_type": "markdown",
   "id": "41816b60-6471-4477-a068-00366498036a",
   "metadata": {},
   "source": [
    "# 2.String.Lower()\n",
    "### convert letters to lowercase"
   ]
  },
  {
   "cell_type": "code",
   "execution_count": 6,
   "id": "2d6ced2c-91f5-4d68-a586-b9317301ed7e",
   "metadata": {},
   "outputs": [
    {
     "name": "stdout",
     "output_type": "stream",
     "text": [
      "lower\n"
     ]
    }
   ],
   "source": [
    "b = \"LoweR\"\n",
    "b = b.lower()\n",
    "print(b)"
   ]
  },
  {
   "cell_type": "markdown",
   "id": "5f0d5bcf-b81c-4a2c-a0eb-607e86e47935",
   "metadata": {},
   "source": [
    "# 3.String.upper()\n",
    "### convert all character in a string to uppercase"
   ]
  },
  {
   "cell_type": "code",
   "execution_count": 7,
   "id": "5883d9e6-9cc8-49b6-ab8d-6eb90c4368f7",
   "metadata": {},
   "outputs": [
    {
     "name": "stdout",
     "output_type": "stream",
     "text": [
      "UPPER\n"
     ]
    }
   ],
   "source": [
    "c = \"upper\"\n",
    "c = c.upper()\n",
    "print(c)"
   ]
  },
  {
   "cell_type": "markdown",
   "id": "aa6df0c0-ed4b-43c2-847b-8c0bf307e2f5",
   "metadata": {},
   "source": [
    "# 4.String.count\n",
    "### calculate occurance of specified value in the string"
   ]
  },
  {
   "cell_type": "code",
   "execution_count": 9,
   "id": "7afc13fb-a065-46c7-8fbc-476c0fdd0c55",
   "metadata": {},
   "outputs": [
    {
     "name": "stdout",
     "output_type": "stream",
     "text": [
      "5\n"
     ]
    }
   ],
   "source": [
    "d = \"This is for calculating the occurence\"\n",
    "d= d.count(\"c\")\n",
    "print(d)"
   ]
  },
  {
   "cell_type": "code",
   "execution_count": 11,
   "id": "730ccfcd-d1b7-42bc-8228-4c4210c16df4",
   "metadata": {},
   "outputs": [
    {
     "name": "stdout",
     "output_type": "stream",
     "text": [
      "2\n"
     ]
    }
   ],
   "source": [
    "e = \"This is also used for the counting the word\"\n",
    "e = e.count(\"the\")\n",
    "print(e)"
   ]
  },
  {
   "cell_type": "markdown",
   "id": "b1d20b89-5572-4b21-a1e4-4504dc8511a9",
   "metadata": {},
   "source": [
    "# 5.String.startswith(prefic[,start[,end]])\n",
    "### Return true if string starts with the specified prefix otherwise false"
   ]
  },
  {
   "cell_type": "code",
   "execution_count": 13,
   "id": "a12f5ab5-1a22-4f7b-8eae-1d5241b2c8a8",
   "metadata": {},
   "outputs": [
    {
     "name": "stdout",
     "output_type": "stream",
     "text": [
      "True\n"
     ]
    }
   ],
   "source": [
    "f = \"starts\"\n",
    "f = f.startswith(\"s\")\n",
    "print(f)"
   ]
  },
  {
   "cell_type": "markdown",
   "id": "86073f46-18fe-4d60-a8f6-80ae465e0b67",
   "metadata": {},
   "source": [
    "# 6 String.endwith \n",
    "### Return true if the string ends with the specified prefix otherwise false"
   ]
  },
  {
   "cell_type": "code",
   "execution_count": 19,
   "id": "2dbd0e1e-929e-4bc9-b07f-a33580bd1700",
   "metadata": {},
   "outputs": [
    {
     "name": "stdout",
     "output_type": "stream",
     "text": [
      "False\n"
     ]
    }
   ],
   "source": [
    "g = \"finish\"\n",
    "g = g.endswith(\"g\")\n",
    "print(g)\n"
   ]
  },
  {
   "cell_type": "markdown",
   "id": "6c3b3c8e-6daf-49a4-8638-1ef138556a94",
   "metadata": {},
   "source": [
    "# 7 String.find(sub[,start[,end]])\n",
    "### return the first occurence of substring if found in the string else return 1,"
   ]
  },
  {
   "cell_type": "code",
   "execution_count": 16,
   "id": "8379d6f2-e8d8-4b8e-8809-33aeeb77aeb8",
   "metadata": {},
   "outputs": [
    {
     "name": "stdout",
     "output_type": "stream",
     "text": [
      "13\n"
     ]
    }
   ],
   "source": [
    "h = \"I am finding the letter\"\n",
    "h = h.find(\"t\")\n",
    "print(h)"
   ]
  },
  {
   "cell_type": "markdown",
   "id": "ae90d42e-eac7-44c7-9122-1e53daba17f7",
   "metadata": {},
   "source": [
    "# 8.String.casefold\n",
    "### Converts to Lower more aggrasively than lower"
   ]
  },
  {
   "cell_type": "code",
   "execution_count": 21,
   "id": "c0f73d51-2d09-4a28-ab41-101c5c23ae5f",
   "metadata": {},
   "outputs": [
    {
     "name": "stdout",
     "output_type": "stream",
     "text": [
      "casefold\n"
     ]
    }
   ],
   "source": [
    "i = (\"CasEFolD\")\n",
    "i = i.casefold()\n",
    "print(i)"
   ]
  },
  {
   "cell_type": "markdown",
   "id": "4325a09b-888f-4b3d-ba58-b2f9da4d94e2",
   "metadata": {},
   "source": [
    "# 9.String.center (width[,fillchar])\n",
    "### Centers the string within the specified width."
   ]
  },
  {
   "cell_type": "code",
   "execution_count": 8,
   "id": "5b31b443-f59c-4d30-8923-7cc74d455c93",
   "metadata": {},
   "outputs": [
    {
     "name": "stdout",
     "output_type": "stream",
     "text": [
      "-------center-------\n"
     ]
    }
   ],
   "source": [
    "j = (\"center\")\n",
    "j = j.center(20,\"-\")\n",
    "print(j)"
   ]
  },
  {
   "cell_type": "markdown",
   "id": "ea6fc64a-a7bb-489b-8c5b-92ced7552118",
   "metadata": {},
   "source": [
    "# 10.string.encode(encoding=\"utf-8\",erroes=\"strict\")\n",
    "### Returns encodded version of the string"
   ]
  },
  {
   "cell_type": "code",
   "execution_count": 9,
   "id": "850075d6-038f-47f0-9270-5a577d5b2d06",
   "metadata": {},
   "outputs": [
    {
     "name": "stdout",
     "output_type": "stream",
     "text": [
      "b'encode'\n"
     ]
    }
   ],
   "source": [
    "k = (\"encode\")\n",
    "k = k.encode()\n",
    "print(k)"
   ]
  },
  {
   "cell_type": "markdown",
   "id": "a46af469-dcf5-49f6-953f-7e8a892db426",
   "metadata": {},
   "source": [
    "# 11.String.expandtabs(tabsize=8)\n",
    "### Replace tabs with spaces."
   ]
  },
  {
   "cell_type": "code",
   "execution_count": 12,
   "id": "5ca4e312-92bb-4d95-b6d5-b1df3a40eb80",
   "metadata": {},
   "outputs": [
    {
     "name": "stdout",
     "output_type": "stream",
     "text": [
      "expand  tabs    default 8\n"
     ]
    }
   ],
   "source": [
    "l = (\"expand\\ttabs\\tdefault\\t8\")\n",
    "l = l.expandtabs()\n",
    "print(l)"
   ]
  },
  {
   "cell_type": "code",
   "execution_count": 16,
   "id": "b03b799a-c0de-49b2-8947-95e669f2243c",
   "metadata": {},
   "outputs": [
    {
     "name": "stdout",
     "output_type": "stream",
     "text": [
      "expand      tab         4\n"
     ]
    }
   ],
   "source": [
    "m = (\"expand\\ttab\\t4\")\n",
    "m = m.expandtabs(12)\n",
    "print(m)"
   ]
  },
  {
   "cell_type": "markdown",
   "id": "d95dfc5c-d347-4f2d-8bcb-d6e3c91db791",
   "metadata": {},
   "source": [
    "# 12.String.format(*args,**kwargs)\n",
    "### Formats string using the specified arguments."
   ]
  },
  {
   "cell_type": "code",
   "execution_count": 13,
   "id": "8e61a035-8004-4bd6-8f3d-c376a7ea1e94",
   "metadata": {},
   "outputs": [
    {
     "name": "stdout",
     "output_type": "stream",
     "text": [
      "My name is Amaan and I am 22 years old Amaan.\n",
      "My name is Amaan and my age is 22.\n"
     ]
    }
   ],
   "source": [
    "# Using positional arguments (*args)\n",
    "print(\"My name is {0} and I am {1} years old {0}.\".format(\"Amaan\", 22,))\n",
    "print(\"My name is {} and my age is {}.\".format(\"Amaan\",22))"
   ]
  },
  {
   "cell_type": "code",
   "execution_count": 7,
   "id": "951315ca-b83a-4f18-8666-12440eb4be08",
   "metadata": {},
   "outputs": [
    {
     "name": "stdout",
     "output_type": "stream",
     "text": [
      "My name is Amaan and I am 22 years old.\n"
     ]
    }
   ],
   "source": [
    "# Using keywords arguments (**kwargs)\n",
    "print(\"My name is {name} and I am {age} years old.\".format(name=\"Amaan\",age=22))"
   ]
  },
  {
   "cell_type": "code",
   "execution_count": 8,
   "id": "7edf635f-b907-43e6-992d-b596d7d617a1",
   "metadata": {},
   "outputs": [
    {
     "name": "stdout",
     "output_type": "stream",
     "text": [
      "My name is Amaan and my age is 22.\n"
     ]
    }
   ],
   "source": [
    "# Mixing both \n",
    "print(\"My name is {} and my age is {age}.\".format(\"Amaan\",age=22))"
   ]
  },
  {
   "cell_type": "markdown",
   "id": "f534ca89-812e-4b84-863d-8fa4757b5d3a",
   "metadata": {},
   "source": [
    "# 13.string.format_map(mapping)\n",
    "### Formats string using a mapping"
   ]
  },
  {
   "cell_type": "code",
   "execution_count": 16,
   "id": "73ccb71d-613c-46e8-8bfc-3cd67ae651b3",
   "metadata": {},
   "outputs": [
    {
     "name": "stdout",
     "output_type": "stream",
     "text": [
      "My name is Amaan and i am 22 years old.\n"
     ]
    }
   ],
   "source": [
    "data = {\"name\" : \"Amaan\",\"age\" : 22}\n",
    "print(\"My name is {name} and i am {age} years old.\".format_map(data))"
   ]
  },
  {
   "cell_type": "markdown",
   "id": "a6eb616c-6e8e-4f88-8f17-2f719692d726",
   "metadata": {},
   "source": [
    "# 14.String.index(sub[,start[,end]])\n",
    "### Like find() but raises ValueError if not found"
   ]
  },
  {
   "cell_type": "code",
   "execution_count": 7,
   "id": "59891706-8978-410d-a837-6cab5a3ea9e4",
   "metadata": {},
   "outputs": [
    {
     "name": "stdout",
     "output_type": "stream",
     "text": [
      "10\n"
     ]
    }
   ],
   "source": [
    "text = \"Lets find a words.\"\n",
    "index = text.index(\"a\")\n",
    "print(index)"
   ]
  },
  {
   "cell_type": "markdown",
   "id": "673362fd-1f8b-41c4-8db1-70f23990c15a",
   "metadata": {},
   "source": [
    "# 15.String.isalnum()\n",
    "# Returns true if all characters are in alphabets and numbers."
   ]
  },
  {
   "cell_type": "code",
   "execution_count": 11,
   "id": "8c735934-0924-4bd1-afe1-145387252801",
   "metadata": {},
   "outputs": [
    {
     "name": "stdout",
     "output_type": "stream",
     "text": [
      "False\n"
     ]
    }
   ],
   "source": [
    "alnum = \"python3.0\"\n",
    "print(alnum.isalnum())"
   ]
  },
  {
   "cell_type": "markdown",
   "id": "5ac56203-83ee-4541-9da1-be72af01e1d0",
   "metadata": {},
   "source": [
    "# 16.String.isalpha()\n",
    "### Returns true if all characters are alphabetic."
   ]
  },
  {
   "cell_type": "code",
   "execution_count": 13,
   "id": "fb193f29-49a8-46b8-bf84-06fd2a2db91b",
   "metadata": {},
   "outputs": [
    {
     "name": "stdout",
     "output_type": "stream",
     "text": [
      "False\n"
     ]
    }
   ],
   "source": [
    "alp = (\"I am amaan\")\n",
    "print(alp.isalpha())"
   ]
  },
  {
   "cell_type": "markdown",
   "id": "09da27d2-b8df-46f1-a9dd-120cd4ce30ac",
   "metadata": {},
   "source": [
    "# 17.String.isascii()\n",
    "### Returns true if characters are ASCII (American Standard Code for Information Interchage)"
   ]
  },
  {
   "cell_type": "code",
   "execution_count": 14,
   "id": "97687a86-a655-4e84-b7bb-dac9a13466da",
   "metadata": {},
   "outputs": [
    {
     "name": "stdout",
     "output_type": "stream",
     "text": [
      "True\n"
     ]
    }
   ],
   "source": [
    "asc = \"Hello python 3.0\"\n",
    "print(asc.isascii())"
   ]
  },
  {
   "cell_type": "markdown",
   "id": "2b719699-728b-4b8b-8120-8cb5d4ba8280",
   "metadata": {},
   "source": [
    "# 18.String.isdecimal()\n",
    "### Returns true if all characters are decimal characters."
   ]
  },
  {
   "cell_type": "code",
   "execution_count": 15,
   "id": "0347ea18-10a5-43ed-9598-5bcbbb4cc011",
   "metadata": {},
   "outputs": [
    {
     "name": "stdout",
     "output_type": "stream",
     "text": [
      "False\n"
     ]
    }
   ],
   "source": [
    "dec = \"3.0\"\n",
    "print(dec.isdecimal())"
   ]
  },
  {
   "cell_type": "markdown",
   "id": "f76c5a12-9fc2-43ed-9a49-07cb8660d696",
   "metadata": {},
   "source": [
    "# 19.String.isdigit()\n",
    "### Returns true if all the characters are digits without space."
   ]
  },
  {
   "cell_type": "code",
   "execution_count": 18,
   "id": "dd5e8719-f539-40b6-810b-14fca09ea2ae",
   "metadata": {},
   "outputs": [
    {
     "name": "stdout",
     "output_type": "stream",
     "text": [
      "True\n"
     ]
    }
   ],
   "source": [
    "dig = \"12345\"\n",
    "print(dig.isdigit())"
   ]
  },
  {
   "cell_type": "markdown",
   "id": "fb0a0e34-cbc4-4ff0-a709-54a2f49f7abb",
   "metadata": {},
   "source": [
    "# 20.String.isidentifier()\n",
    "### Returns true if all string is a valid pyhton identifier (i.e., name you use for variable, functions, classes etc.) "
   ]
  },
  {
   "cell_type": "code",
   "execution_count": 21,
   "id": "2c84c356-ffc8-4c59-b550-f18cc044d24f",
   "metadata": {},
   "outputs": [
    {
     "name": "stdout",
     "output_type": "stream",
     "text": [
      "False\n"
     ]
    }
   ],
   "source": [
    "ident = \"Hello guys\"\n",
    "print(ident.isidentifier())\n",
    "# It is false because \"Hello guys\" has space. In Python, identifiers cannot have spaces instead of space use \"Hello_guys\"."
   ]
  },
  {
   "cell_type": "markdown",
   "id": "ffa4d57f-6126-4f22-9ba9-e1c38b6d3ed5",
   "metadata": {},
   "source": [
    "# 21.String.islower()\n",
    "### Returns true if all characters are lowercase"
   ]
  },
  {
   "cell_type": "code",
   "execution_count": 22,
   "id": "7da311c9-0f51-415c-afdf-cffcdc143f0f",
   "metadata": {},
   "outputs": [
    {
     "name": "stdout",
     "output_type": "stream",
     "text": [
      "True\n"
     ]
    }
   ],
   "source": [
    "low = \"this lower case sentence.\"\n",
    "print(low.islower())"
   ]
  },
  {
   "cell_type": "markdown",
   "id": "4d303def-7afa-4060-9b22-a8bbd5001554",
   "metadata": {},
   "source": [
    "# 22.String.isnumeric()\n",
    "### Returns ture if all the characters are numeric."
   ]
  },
  {
   "cell_type": "code",
   "execution_count": 24,
   "id": "61b7e371-c008-496b-a8d8-5e51d627fd55",
   "metadata": {},
   "outputs": [
    {
     "name": "stdout",
     "output_type": "stream",
     "text": [
      "True\n"
     ]
    }
   ],
   "source": [
    "num = \"23659\"\n",
    "print(num.isnumeric())"
   ]
  },
  {
   "cell_type": "markdown",
   "id": "04107ed7-7b42-4df9-ba94-6eb0ae1e4f01",
   "metadata": {},
   "source": [
    "# 23.String.isprintable()\n",
    "### Returns true if all characters are printable."
   ]
  },
  {
   "cell_type": "code",
   "execution_count": 28,
   "id": "3c5cb0f8-95e9-44ab-9300-dc9aa85ca6e6",
   "metadata": {},
   "outputs": [
    {
     "name": "stdout",
     "output_type": "stream",
     "text": [
      "True\n",
      "False\n"
     ]
    }
   ],
   "source": [
    "printa = \"you can print this 3.0!\"\n",
    "noprint = \"you\\ncannot\\tprint this\"\n",
    "print(printa.isprintable())\n",
    "print(noprint.isprintable())"
   ]
  },
  {
   "cell_type": "markdown",
   "id": "066d3e4c-ac99-4bb0-bf5c-926af9e21c6e",
   "metadata": {},
   "source": [
    "# 24.Stirng.isspace()\n",
    "### Returns true if all the characters are whitespace."
   ]
  },
  {
   "cell_type": "code",
   "execution_count": 29,
   "id": "daed670d-46ab-4850-8f23-8b50bab79ff8",
   "metadata": {},
   "outputs": [
    {
     "name": "stdout",
     "output_type": "stream",
     "text": [
      "True\n"
     ]
    }
   ],
   "source": [
    "space = \"        \"\n",
    "print(space.isspace())"
   ]
  },
  {
   "cell_type": "markdown",
   "id": "e9c36609-a523-40b9-8fd1-9d8395e0273e",
   "metadata": {},
   "source": [
    "# 25.String.istitle()\n",
    "### Returns true if the string is titlecased where each word starts with an uppercase letter and the rest of the letters are lowercase."
   ]
  },
  {
   "cell_type": "code",
   "execution_count": 32,
   "id": "91a76f45-f8e0-4981-b8c2-46b79af713b9",
   "metadata": {},
   "outputs": [
    {
     "name": "stdout",
     "output_type": "stream",
     "text": [
      "True\n"
     ]
    }
   ],
   "source": [
    "title = \"This Is A Title\"\n",
    "print(title.istitle())"
   ]
  },
  {
   "cell_type": "markdown",
   "id": "47b96c41-21cb-4fe0-a2c3-14cc52f761b8",
   "metadata": {},
   "source": [
    "# 26.String.join(iterable)\n",
    "### Joins elements of an iterable with the string as a separator."
   ]
  },
  {
   "cell_type": "code",
   "execution_count": 8,
   "id": "30e3a61c-e948-4b1a-8280-844fc5f26028",
   "metadata": {},
   "outputs": [
    {
     "name": "stdout",
     "output_type": "stream",
     "text": [
      "HelloCoders\n",
      "Hello    -   Coders\n"
     ]
    }
   ],
   "source": [
    "word = (\"Hello\",\"Coders\")\n",
    "result =(\"\".join(word))\n",
    "print(result)\n",
    "\n",
    "words = (\"Hello\",\"Coders\")\n",
    "results =(\"    -   \".join(words))\n",
    "print(results)"
   ]
  },
  {
   "cell_type": "markdown",
   "id": "04018a63-b474-4b8c-a478-a53c15468ec9",
   "metadata": {},
   "source": [
    "# 27.String.ljust(width,fillchar)\n",
    "### Left-justifies the string."
   ]
  },
  {
   "cell_type": "code",
   "execution_count": 16,
   "id": "1fa01aca-14a0-420b-b075-fc64ec50b5a4",
   "metadata": {},
   "outputs": [
    {
     "name": "stdout",
     "output_type": "stream",
     "text": [
      "I am calculating lenght-----------------------------------------------------------------------------\n"
     ]
    }
   ],
   "source": [
    "lenght = \"I am calculating lenght\"\n",
    "print(lenght.ljust(100,\"-\"))"
   ]
  },
  {
   "cell_type": "markdown",
   "id": "ac31959c-e0e3-468e-a154-30a7aa9a017b",
   "metadata": {},
   "source": [
    "# 28.String.lstrip(chars)\n",
    "### Removes leading characters (default:whitespaces)."
   ]
  },
  {
   "cell_type": "code",
   "execution_count": 26,
   "id": "7b637775-c2d3-4d16-b2f5-6d7b634da869",
   "metadata": {},
   "outputs": [
    {
     "name": "stdout",
     "output_type": "stream",
     "text": [
      "m removing elements\n"
     ]
    }
   ],
   "source": [
    "strip = \"I am removing elements\"\n",
    "print(strip.lstrip(\"I, ,a,\"))"
   ]
  },
  {
   "cell_type": "markdown",
   "id": "6ff96cc8-2113-4a41-a92f-a33cc9ed1182",
   "metadata": {},
   "source": [
    "# 29.String.maketrans(x,y=None,z=None)\n",
    "### Returns a translation table."
   ]
  },
  {
   "cell_type": "code",
   "execution_count": 32,
   "id": "234e814b-efbf-4711-9124-b96782256ccc",
   "metadata": {},
   "outputs": [
    {
     "name": "stdout",
     "output_type": "stream",
     "text": [
      "121212\n"
     ]
    }
   ],
   "source": [
    "translation = str.maketrans({\"a\":\"1\",\"b\":\"2\",\"c\":None})\n",
    "text = (\"abcabcabc\")\n",
    "print(text.translate(translation))"
   ]
  },
  {
   "cell_type": "markdown",
   "id": "19561471-4762-4265-b24e-45c0b4db0064",
   "metadata": {},
   "source": [
    "# 30.String.partition(sep)\n",
    "### This method splits a string into three parts using the first occurrence of the given separator."
   ]
  },
  {
   "cell_type": "code",
   "execution_count": 34,
   "id": "5284b288-65ec-428d-befe-9e26f23bbad3",
   "metadata": {},
   "outputs": [
    {
     "name": "stdout",
     "output_type": "stream",
     "text": [
      "('', 'I', ' will make a partition')\n"
     ]
    }
   ],
   "source": [
    "part = \"I will make a partition\"\n",
    "print(part.partition(\"I\"))"
   ]
  },
  {
   "cell_type": "markdown",
   "id": "8abfb44a-e20e-42d2-8a09-717550b96257",
   "metadata": {},
   "source": [
    "# 31.String.removeprefix(prefix)\n",
    "### Removes the specified prefix if present."
   ]
  },
  {
   "cell_type": "code",
   "execution_count": 40,
   "id": "0a334280-c945-45e4-ae3f-47f50ba7e3b1",
   "metadata": {},
   "outputs": [
    {
     "name": "stdout",
     "output_type": "stream",
     "text": [
      "fix remove\n"
     ]
    }
   ],
   "source": [
    "remove = \"Prefix remove\"\n",
    "result = remove.removeprefix(\"Pre\")\n",
    "print(result)"
   ]
  },
  {
   "cell_type": "markdown",
   "id": "ce28a24e-0c57-4dda-807b-60a3da310a42",
   "metadata": {},
   "source": [
    "# 32.String.removesuffix(suffix)\n",
    "### Removes the specified suffix if present."
   ]
  },
  {
   "cell_type": "code",
   "execution_count": 43,
   "id": "de1cd375-3893-43e5-82a1-ec7b06cd8944",
   "metadata": {},
   "outputs": [
    {
     "name": "stdout",
     "output_type": "stream",
     "text": [
      "Suffix re\n"
     ]
    }
   ],
   "source": [
    "remove = \"Suffix remove\"\n",
    "print(remove.removesuffix(\"move\"))"
   ]
  },
  {
   "cell_type": "markdown",
   "id": "70e48014-9d20-4895-b08a-b61fcc031c58",
   "metadata": {},
   "source": [
    "# 33.String.replace(old,new[,count])\n",
    "### Returns a copy with all occurences of a substring replaced."
   ]
  },
  {
   "cell_type": "code",
   "execution_count": 45,
   "id": "9c542ad8-198d-48de-84f0-373dfd027bde",
   "metadata": {},
   "outputs": [
    {
     "name": "stdout",
     "output_type": "stream",
     "text": [
      "apple mango orange\n"
     ]
    }
   ],
   "source": [
    "fruits = \"apple mango banana\"\n",
    "print(fruits.replace(\"banana\",\"orange\"))"
   ]
  },
  {
   "cell_type": "code",
   "execution_count": 47,
   "id": "eb565bb1-2bd3-40cd-900f-cd07c361642b",
   "metadata": {},
   "outputs": [
    {
     "name": "stdout",
     "output_type": "stream",
     "text": [
      "apple mang range\n"
     ]
    }
   ],
   "source": [
    "fruits = \"apple mango orange\"\n",
    "print(fruits.replace(\"o\",\"\"))"
   ]
  },
  {
   "cell_type": "code",
   "execution_count": 52,
   "id": "18cc02e1-e783-4677-adeb-77c2d82c0d21",
   "metadata": {},
   "outputs": [
    {
     "name": "stdout",
     "output_type": "stream",
     "text": [
      "meloz bazaza mango\n"
     ]
    }
   ],
   "source": [
    "fruits = \"melon banana mango\"\n",
    "print(fruits.replace(\"n\",\"z\",3)) # 3 is the occurence. its gonna replace 3 'n'"
   ]
  },
  {
   "cell_type": "markdown",
   "id": "e99c2a3a-9498-4c8d-a9b9-f67579a97002",
   "metadata": {},
   "source": [
    "# 34.String.rfind(sub[,start[,end]])\n",
    "### Returns the highest index if the substring."
   ]
  },
  {
   "cell_type": "code",
   "execution_count": 54,
   "id": "c61e669f-6a7d-40da-88e7-3cd149abd365",
   "metadata": {},
   "outputs": [
    {
     "name": "stdout",
     "output_type": "stream",
     "text": [
      "14\n"
     ]
    }
   ],
   "source": [
    "clothes = \"shirt,jeans,t-shirt\"\n",
    "print(clothes.rfind(\"shirt\"))"
   ]
  },
  {
   "cell_type": "markdown",
   "id": "9901272d-1b80-46bb-978e-eb3742f41a43",
   "metadata": {},
   "source": [
    "# 35.String.rindex(sub[,start[,end]])\n",
    "###  Like rfind() but raises ValueError if not found."
   ]
  },
  {
   "cell_type": "code",
   "execution_count": 56,
   "id": "b0f21fc0-75c3-4cc1-b96c-a43765462ba8",
   "metadata": {},
   "outputs": [
    {
     "name": "stdout",
     "output_type": "stream",
     "text": [
      "-1\n"
     ]
    }
   ],
   "source": [
    "clothes = \"shirt,jeans,t-shirt\"\n",
    "print(clothes.rindex(\"z\"))"
   ]
  },
  {
   "cell_type": "markdown",
   "id": "c9969eff-a312-41de-8a04-a9a594247890",
   "metadata": {},
   "source": [
    "# 36.String.rjust(width,fillchar)\n",
    "### Right-justifies the string."
   ]
  },
  {
   "cell_type": "code",
   "execution_count": 59,
   "id": "a6b7d9fb-936c-4008-b9e8-7e2be4a8f2bc",
   "metadata": {},
   "outputs": [
    {
     "name": "stdout",
     "output_type": "stream",
     "text": [
      "------------------------------------------------------------------------------I am performing rjust.\n"
     ]
    }
   ],
   "source": [
    "just = \"I am performing rjust.\"\n",
    "print(just.rjust(100,\"-\"))"
   ]
  },
  {
   "cell_type": "markdown",
   "id": "10282694-2c98-4094-862a-78e9a092c716",
   "metadata": {},
   "source": [
    "# 37.String.rsplit(sep=None,maxsplit=-1)\n",
    "### Split  the string from the right."
   ]
  },
  {
   "cell_type": "code",
   "execution_count": 76,
   "id": "44d5dc2b-55b6-4f45-b821-61ec3c6baaff",
   "metadata": {},
   "outputs": [
    {
     "name": "stdout",
     "output_type": "stream",
     "text": [
      "['I will', 'split', 'this.']\n"
     ]
    }
   ],
   "source": [
    "split = \"I will split this.\"\n",
    "print(split.rsplit(None,2))"
   ]
  },
  {
   "cell_type": "markdown",
   "id": "1bb6872a-c10c-4fa3-9f64-9bcbbab7260c",
   "metadata": {},
   "source": [
    "# 38.String.rstrip([chars])\n",
    "### Removes trailing characters (default:whitespace)."
   ]
  },
  {
   "cell_type": "code",
   "execution_count": 83,
   "id": "e26bafc9-3f22-4954-9f19-6451f42598fa",
   "metadata": {},
   "outputs": [
    {
     "name": "stdout",
     "output_type": "stream",
     "text": [
      "Removing trailing chara\n"
     ]
    }
   ],
   "source": [
    "strip = \"Removing trailing characters\"\n",
    "print(strip.rstrip(\"cters\"))"
   ]
  },
  {
   "cell_type": "markdown",
   "id": "e668271c-8456-4301-a504-2a202d9e7137",
   "metadata": {},
   "source": [
    "# 39.String.split(srp=None,maxsplit=-1)\n",
    "### Splits the string"
   ]
  },
  {
   "cell_type": "code",
   "execution_count": 87,
   "id": "25530991-9442-4ec3-8f22-e8f74613d870",
   "metadata": {},
   "outputs": [
    {
     "name": "stdout",
     "output_type": "stream",
     "text": [
      "['I ', 'm spliting this']\n"
     ]
    }
   ],
   "source": [
    "split = \"I am spliting this\"\n",
    "print(split.split(\"a\",2))"
   ]
  },
  {
   "cell_type": "markdown",
   "id": "982ac7cd-2246-4b30-a58a-258d61563b2a",
   "metadata": {},
   "source": [
    "# 40.String.spliltlines([keepends])\n",
    "### Splits at the breaks."
   ]
  },
  {
   "cell_type": "code",
   "execution_count": 93,
   "id": "8de5173a-b51d-4846-88b4-61a97e30c33e",
   "metadata": {},
   "outputs": [
    {
     "name": "stdout",
     "output_type": "stream",
     "text": [
      "['I', 'will split', 'lines']\n"
     ]
    }
   ],
   "source": [
    "lines = \"I\\nwill split\\nlines\"\n",
    "print(lines.splitlines())"
   ]
  },
  {
   "cell_type": "markdown",
   "id": "e718f6a1-861e-4c01-bec1-37fc271ff22e",
   "metadata": {},
   "source": [
    "# 41.String.startswith(prefix[,start[,end]])\n",
    "### Returns true if the string starts with prefix."
   ]
  },
  {
   "cell_type": "code",
   "execution_count": 96,
   "id": "62d9d8ab-291e-4d2d-9483-168f52bea204",
   "metadata": {},
   "outputs": [
    {
     "name": "stdout",
     "output_type": "stream",
     "text": [
      "False\n"
     ]
    }
   ],
   "source": [
    "starts = \"I am here\"\n",
    "print(starts.startswith(\"am\",2,3))"
   ]
  },
  {
   "cell_type": "markdown",
   "id": "e7a8755c-7aa6-4a86-be10-a1847946d2b8",
   "metadata": {},
   "source": [
    "# 42.String.strip([chars])\n",
    "### Removes leading and trailing characters."
   ]
  },
  {
   "cell_type": "code",
   "execution_count": 103,
   "id": "b7561981-dfc0-406a-9ac3-20e27a449568",
   "metadata": {},
   "outputs": [
    {
     "name": "stdout",
     "output_type": "stream",
     "text": [
      "tart and en\n"
     ]
    }
   ],
   "source": [
    "strip = \"start and ends\"\n",
    "print(strip.strip(\"ds\"))"
   ]
  },
  {
   "cell_type": "markdown",
   "id": "153a2feb-62c1-4acb-b217-bfd64fdedf82",
   "metadata": {},
   "source": [
    "# 43.String.swapcase()\n",
    "### Swaps case of all characters."
   ]
  },
  {
   "cell_type": "code",
   "execution_count": 109,
   "id": "84b9cff3-adc4-4625-9be5-ecd2852fa0a3",
   "metadata": {},
   "outputs": [
    {
     "name": "stdout",
     "output_type": "stream",
     "text": [
      "sWAPPING tHE cASE\n"
     ]
    }
   ],
   "source": [
    "swap = \"Swapping The Case\"\n",
    "print(swap.swapcase())"
   ]
  },
  {
   "cell_type": "markdown",
   "id": "4c5c8568-6d8f-424f-b2aa-e190c69ef210",
   "metadata": {},
   "source": [
    "# 44.String.title()\n",
    "### Returns a titlecased version of the string."
   ]
  },
  {
   "cell_type": "code",
   "execution_count": 110,
   "id": "978a03c9-913c-426b-8cad-e9d8a1809c71",
   "metadata": {},
   "outputs": [
    {
     "name": "stdout",
     "output_type": "stream",
     "text": [
      "I Am Making A Title\n"
     ]
    }
   ],
   "source": [
    "title = \"i am maKING a titLe\"\n",
    "print(title.title())"
   ]
  },
  {
   "cell_type": "markdown",
   "id": "e892ba90-00c0-432d-85b1-8ba1afaaa075",
   "metadata": {},
   "source": [
    "# 45.String.translate(table)\n",
    "### Returns a translated string."
   ]
  },
  {
   "cell_type": "code",
   "execution_count": 114,
   "id": "c4d4e943-9441-47a1-b76e-f73e657a63c4",
   "metadata": {},
   "outputs": [
    {
     "name": "stdout",
     "output_type": "stream",
     "text": [
      "1ppl2\n"
     ]
    }
   ],
   "source": [
    "fromchar_tochar = str.maketrans(\"aeiou\", \"12345\")\n",
    "text = \"apple\"\n",
    "print(text.translate(fromchar_tochar))"
   ]
  },
  {
   "cell_type": "markdown",
   "id": "df8dc8e1-9029-4e1a-a69d-5b9899d54d48",
   "metadata": {},
   "source": [
    "# 46.String.zfill(width)\n",
    "### Pads the string on the left with zeros."
   ]
  },
  {
   "cell_type": "code",
   "execution_count": 112,
   "id": "e02e41fe-9131-47db-a590-4728f0cc35e8",
   "metadata": {},
   "outputs": [
    {
     "name": "stdout",
     "output_type": "stream",
     "text": [
      "00098\n"
     ]
    }
   ],
   "source": [
    "fill = \"98\"\n",
    "print(fill.zfill(5))"
   ]
  }
 ],
 "metadata": {
  "kernelspec": {
   "display_name": "Python 3 (ipykernel)",
   "language": "python",
   "name": "python3"
  },
  "language_info": {
   "codemirror_mode": {
    "name": "ipython",
    "version": 3
   },
   "file_extension": ".py",
   "mimetype": "text/x-python",
   "name": "python",
   "nbconvert_exporter": "python",
   "pygments_lexer": "ipython3",
   "version": "3.13.5"
  }
 },
 "nbformat": 4,
 "nbformat_minor": 5
}
